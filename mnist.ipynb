{
 "cells": [
  {
   "cell_type": "markdown",
   "metadata": {},
   "source": [
    "# https://www.kaggle.com/c/digit-recognizer/"
   ]
  },
  {
   "cell_type": "code",
   "execution_count": 1,
   "metadata": {},
   "outputs": [],
   "source": [
    "import torch\n",
    "from torch import nn, optim\n",
    "import torch.nn.functional as F\n",
    "from torchvision import datasets, transforms\n",
    "\n",
    "%load_ext blackcellmagic"
   ]
  },
  {
   "cell_type": "markdown",
   "metadata": {},
   "source": [
    "# dataset"
   ]
  },
  {
   "cell_type": "code",
   "execution_count": 2,
   "metadata": {},
   "outputs": [],
   "source": [
    "batch_size = 200\n",
    "train_loader = torch.utils.data.DataLoader(\n",
    "    datasets.MNIST(\n",
    "        \"data\",\n",
    "        train=True,\n",
    "        download=True,\n",
    "        transform=transforms.Compose([transforms.ToTensor()]),\n",
    "    ),\n",
    "    batch_size=batch_size,\n",
    "    shuffle=True,\n",
    ")\n",
    "test_loader = torch.utils.data.DataLoader(\n",
    "    datasets.MNIST(\n",
    "        \"data\", train=False, transform=transforms.Compose([transforms.ToTensor()])\n",
    "    ),\n",
    "    batch_size=batch_size,\n",
    "    shuffle=True,\n",
    ")"
   ]
  },
  {
   "cell_type": "markdown",
   "metadata": {},
   "source": [
    "## Load data from kaggle"
   ]
  },
  {
   "cell_type": "code",
   "execution_count": 3,
   "metadata": {},
   "outputs": [],
   "source": [
    "import pandas as pd\n",
    "import numpy as np\n",
    "\n",
    "train_csv = pd.read_csv('train.csv')\n",
    "x = train_csv.values[:,1:].astype(np.float32)\n",
    "y = train_csv.values[:,0]\n",
    "\n",
    "x = x.reshape([-1, 28, 28, 1])"
   ]
  },
  {
   "cell_type": "code",
   "execution_count": 4,
   "metadata": {},
   "outputs": [
    {
     "name": "stdout",
     "output_type": "stream",
     "text": [
      "(42000, 785)\n",
      "60000\n"
     ]
    }
   ],
   "source": [
    "print(train_csv.shape)\n",
    "print(len(train_loader.dataset))\n",
    "\n",
    "from torch.utils.data import Dataset, DataLoader\n",
    "\n",
    "class MnistDataset(Dataset):\n",
    "    \n",
    "    def __init__(self, x, y=None, transform=None):\n",
    "        self.data = x\n",
    "        self.labels = y\n",
    "        self.transform = transform\n",
    "        \n",
    "    def __len__(self):\n",
    "        return self.data.shape[0]\n",
    "    \n",
    "    def __getitem__(self, idx):\n",
    "        if self.labels is not None:\n",
    "            return self.transform(self.data[idx]), self.labels[idx]\n",
    "        else:\n",
    "            return self.transform(self.data[idx])\n",
    "\n",
    "\n",
    "csv_dataloader = DataLoader(MnistDataset(x, y, transform=transforms.Compose([transforms.ToTensor()])), batch_size=batch_size, shuffle=True)"
   ]
  },
  {
   "cell_type": "markdown",
   "metadata": {},
   "source": [
    "# model"
   ]
  },
  {
   "cell_type": "code",
   "execution_count": 5,
   "metadata": {},
   "outputs": [
    {
     "name": "stdout",
     "output_type": "stream",
     "text": [
      "torch.Size([1, 10])\n"
     ]
    }
   ],
   "source": [
    "class CNN(nn.Module):\n",
    "    def __init__(self):\n",
    "        super(CNN, self).__init__()\n",
    "        self.layer1 = nn.Sequential(\n",
    "            nn.Conv2d(1, 16, kernel_size=5, stride=1, padding=2),\n",
    "            nn.BatchNorm2d(16),\n",
    "            nn.ReLU(),\n",
    "            nn.MaxPool2d(kernel_size=2, stride=2),\n",
    "        )\n",
    "        self.layer2 = nn.Sequential(\n",
    "            nn.Conv2d(16, 32, kernel_size=5, stride=1, padding=2),\n",
    "            nn.BatchNorm2d(32),\n",
    "            nn.ReLU(),\n",
    "            nn.MaxPool2d(kernel_size=2, stride=2),\n",
    "        )\n",
    "        self.fc1 = nn.Linear(7 * 7 * 32, 128)\n",
    "        self.dropout = nn.Dropout()\n",
    "        self.fc2 = nn.Linear(128, 10)\n",
    "\n",
    "    def forward(self, x):\n",
    "        out = self.layer1(x)\n",
    "        out = self.layer2(out)\n",
    "        out = out.reshape(out.size(0), -1)\n",
    "        out = self.fc1(out)\n",
    "        out = self.dropout(out)\n",
    "        out = self.fc2(out)\n",
    "        return out\n",
    "\n",
    "m = CNN()\n",
    "o = m(torch.rand(1, 1, 28, 28))\n",
    "print(o.size())"
   ]
  },
  {
   "cell_type": "code",
   "execution_count": 6,
   "metadata": {},
   "outputs": [
    {
     "name": "stdout",
     "output_type": "stream",
     "text": [
      "torch.Size([1, 10])\n"
     ]
    }
   ],
   "source": [
    "class FiveLayerCNN(nn.Module):\n",
    "    \n",
    "    def __init__(self):\n",
    "        super(FiveLayerCNN, self).__init__()\n",
    "        self.layer1 = nn.Sequential(\n",
    "            nn.Conv2d(1, 16, kernel_size=5, stride=1, padding=2),\n",
    "            nn.BatchNorm2d(16),\n",
    "            nn.ReLU(),\n",
    "            nn.MaxPool2d(kernel_size=2, stride=2),\n",
    "        )\n",
    "        self.layer2 = nn.Sequential(\n",
    "            nn.Conv2d(16, 32, kernel_size=5, stride=1, padding=2),\n",
    "            nn.BatchNorm2d(32),\n",
    "            nn.ReLU(),\n",
    "            nn.MaxPool2d(kernel_size=2, stride=2),\n",
    "        )\n",
    "        self.layer3 = nn.Sequential(\n",
    "            nn.Conv2d(32, 64, kernel_size=3, stride=1, padding=2),\n",
    "            nn.BatchNorm2d(64),\n",
    "            nn.ReLU()\n",
    "        )\n",
    "        self.layer4 = nn.Sequential(\n",
    "            nn.Conv2d(64, 128, kernel_size=3, stride=1, padding=2),\n",
    "            nn.BatchNorm2d(128),\n",
    "            nn.ReLU(),\n",
    "            nn.MaxPool2d(kernel_size=2, stride=2),\n",
    "        )\n",
    "        self.layer5 = nn.Sequential(\n",
    "            nn.Conv2d(128, 256, kernel_size=5, stride=1, padding=2),\n",
    "            nn.BatchNorm2d(256),\n",
    "            nn.ReLU()\n",
    "        )\n",
    "        self.fc1 = nn.Linear(256*5*5, 128)\n",
    "        self.dropout = nn.Dropout()\n",
    "        self.fc2 = nn.Linear(128, 10)\n",
    "        \n",
    "    def forward(self, x):\n",
    "        out = self.layer1(x)\n",
    "        out = self.layer2(out)\n",
    "        out = self.layer3(out)\n",
    "        out = self.layer4(out)\n",
    "        out = self.layer5(out)\n",
    "#         print(out.size())\n",
    "        out = out.reshape(out.size(0), -1)\n",
    "#         print(out.size())\n",
    "        out = self.fc1(out)\n",
    "        out = self.dropout(out)\n",
    "        out = self.fc2(out)\n",
    "        return out\n",
    "        \n",
    "    \n",
    "m = FiveLayerCNN()\n",
    "o = m(torch.rand(1, 1, 28, 28))\n",
    "print(o.size())"
   ]
  },
  {
   "cell_type": "markdown",
   "metadata": {},
   "source": [
    "# train"
   ]
  },
  {
   "cell_type": "code",
   "execution_count": 11,
   "metadata": {},
   "outputs": [
    {
     "name": "stdout",
     "output_type": "stream",
     "text": [
      "Epoch [1/10]\n",
      "Train set: Average loss: 0.000243, Accuracy: 81235/102000 (79.642%)\n",
      "Test set: Average loss: 0.000924, Accuracy: 9456/10000 (94.560%)\n",
      "\n",
      "Epoch [2/10]\n",
      "Train set: Average loss: 0.000246, Accuracy: 81180/102000 (79.588%)\n",
      "Test set: Average loss: 0.000922, Accuracy: 9456/10000 (94.560%)\n",
      "\n",
      "Epoch [3/10]\n",
      "Train set: Average loss: 0.000244, Accuracy: 81236/102000 (79.643%)\n",
      "Test set: Average loss: 0.000919, Accuracy: 9460/10000 (94.600%)\n",
      "\n",
      "Epoch [4/10]\n",
      "Train set: Average loss: 0.000242, Accuracy: 81229/102000 (79.636%)\n",
      "Test set: Average loss: 0.000918, Accuracy: 9459/10000 (94.590%)\n",
      "\n",
      "Epoch [5/10]\n",
      "Train set: Average loss: 0.000245, Accuracy: 81194/102000 (79.602%)\n",
      "Test set: Average loss: 0.000917, Accuracy: 9464/10000 (94.640%)\n",
      "\n",
      "Epoch [6/10]\n",
      "Train set: Average loss: 0.000246, Accuracy: 81161/102000 (79.570%)\n",
      "Test set: Average loss: 0.000917, Accuracy: 9466/10000 (94.660%)\n",
      "\n",
      "Epoch [7/10]\n",
      "Train set: Average loss: 0.000245, Accuracy: 81176/102000 (79.584%)\n",
      "Test set: Average loss: 0.000916, Accuracy: 9463/10000 (94.630%)\n",
      "\n",
      "Epoch [8/10]\n",
      "Train set: Average loss: 0.000242, Accuracy: 81229/102000 (79.636%)\n",
      "Test set: Average loss: 0.000916, Accuracy: 9458/10000 (94.580%)\n",
      "\n",
      "Epoch [9/10]\n",
      "Train set: Average loss: 0.000244, Accuracy: 81227/102000 (79.634%)\n",
      "Test set: Average loss: 0.000915, Accuracy: 9461/10000 (94.610%)\n",
      "\n",
      "Epoch [10/10]\n",
      "Train set: Average loss: 0.000241, Accuracy: 81235/102000 (79.642%)\n",
      "Test set: Average loss: 0.000916, Accuracy: 9458/10000 (94.580%)\n",
      "\n"
     ]
    }
   ],
   "source": [
    "model = CNN().cuda()\n",
    "model.load_state_dict(torch.load(\"mnist_cnn.pt\"))\n",
    "criterion = nn.CrossEntropyLoss()\n",
    "optimizer = optim.Adam(model.parameters(), lr=0.000001)\n",
    "epochs = 10\n",
    "\n",
    "for epoch in range(1, epochs + 1):\n",
    "    print(\"Epoch [{}/{}]\".format(epoch, epochs))\n",
    "\n",
    "    # train\n",
    "    model.train()\n",
    "\n",
    "    train_loss = 0\n",
    "    train_correct = 0\n",
    "\n",
    "    for data1, data2 in zip(train_loader, csv_dataloader):\n",
    "        inputs = torch.cat((data1[0].cuda(), data2[0].cuda()), 0)\n",
    "        target = torch.cat((data1[1].cuda(), data2[1].cuda()), 0)\n",
    "        optimizer.zero_grad()\n",
    "        outputs = model(inputs)\n",
    "        pred = outputs.max(1, keepdim=True)[\n",
    "            1\n",
    "        ]  # get the index of the max log-probability\n",
    "        train_correct += pred.eq(target.view_as(pred)).sum().item()\n",
    "\n",
    "        loss = criterion(outputs, target)\n",
    "        train_loss += loss.item()\n",
    "        loss.backward()\n",
    "        optimizer.step()\n",
    "\n",
    "    print(\n",
    "        \"Train set: Average loss: {:.6f}, Accuracy: {}/{} ({:.3f}%)\".format(\n",
    "            train_loss / (len(train_loader.dataset) + len(csv_dataloader.dataset)),\n",
    "            train_correct,\n",
    "            len(train_loader.dataset) + len(csv_dataloader.dataset),\n",
    "            100.0\n",
    "            * train_correct\n",
    "            / (len(train_loader.dataset) + len(csv_dataloader.dataset)),\n",
    "        )\n",
    "    )\n",
    "\n",
    "    # evaluate\n",
    "    model.eval()\n",
    "\n",
    "    test_loss = 0\n",
    "    correct = 0\n",
    "    with torch.no_grad():\n",
    "        for data, target in test_loader:\n",
    "            data, target = data.cuda(), target.cuda()\n",
    "            output = model(data)\n",
    "            test_loss += criterion(output, target).item()  # sum up batch loss\n",
    "            pred = output.max(1, keepdim=True)[\n",
    "                1\n",
    "            ]  # get the index of the max log-probability\n",
    "            correct += pred.eq(target.view_as(pred)).sum().item()\n",
    "\n",
    "    test_loss /= len(test_loader.dataset)\n",
    "\n",
    "    print(\n",
    "        \"Test set: Average loss: {:.6f}, Accuracy: {}/{} ({:.3f}%)\\n\".format(\n",
    "            test_loss,\n",
    "            correct,\n",
    "            len(test_loader.dataset),\n",
    "            100.0 * correct / len(test_loader.dataset),\n",
    "        )\n",
    "    )\n",
    "\n",
    "torch.save(model.state_dict(), \"mnist_cnn.pt\")"
   ]
  },
  {
   "cell_type": "code",
   "execution_count": null,
   "metadata": {},
   "outputs": [],
   "source": []
  },
  {
   "cell_type": "code",
   "execution_count": 8,
   "metadata": {},
   "outputs": [
    {
     "name": "stdout",
     "output_type": "stream",
     "text": [
      "data\t\t\tmnist.ipynb\t       submission.ipynb\n",
      "mnist_cnn-bestScore.pt\tsample_submission.csv  test.csv\n",
      "mnist_cnn.pt\t\tsubmission.csv\t       train.csv\n"
     ]
    }
   ],
   "source": [
    "!ls"
   ]
  }
 ],
 "metadata": {
  "kernelspec": {
   "display_name": "Python [default]",
   "language": "python",
   "name": "python3"
  },
  "language_info": {
   "codemirror_mode": {
    "name": "ipython",
    "version": 3
   },
   "file_extension": ".py",
   "mimetype": "text/x-python",
   "name": "python",
   "nbconvert_exporter": "python",
   "pygments_lexer": "ipython3",
   "version": "3.6.5"
  }
 },
 "nbformat": 4,
 "nbformat_minor": 2
}
